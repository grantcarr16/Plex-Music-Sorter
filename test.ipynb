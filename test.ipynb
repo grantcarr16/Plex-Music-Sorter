{
 "cells": [
  {
   "cell_type": "code",
   "execution_count": 5,
   "metadata": {},
   "outputs": [],
   "source": [
    "import os"
   ]
  },
  {
   "cell_type": "code",
   "execution_count": null,
   "metadata": {},
   "outputs": [],
   "source": []
  },
  {
   "cell_type": "code",
   "execution_count": 28,
   "metadata": {},
   "outputs": [],
   "source": [
    "def rename_file(file_path) -> None:\n",
    "    \n",
    "    # Check if the file exists\n",
    "    if not os.path.exists(file_path):\n",
    "        print(f\"File '{file_path}' does not exist.\")\n",
    "        return\n",
    "    \n",
    "    # Get the file name and extension\n",
    "    file_name = os.path.basename(file_path)\n",
    "    name, ext = os.path.splitext(file_name)\n",
    "    \n",
    "    # Check if the file follows the naming convention\n",
    "    parts = name.split(\" \", 1)\n",
    "    print(parts)\n",
    "    if len(parts) == 2 and parts[0].isdigit():\n",
    "        new_name = f\"{parts[0]} - {parts[1]}{ext}\"\n",
    "        new_path = os.path.join(os.path.dirname(file_path), new_name)\n",
    "        \n",
    "        # Rename the file\n",
    "        os.rename(file_path, new_path)\n",
    "        #print(f\"Renamed '{file_name}' to '{new_name}'.\")\n",
    "    elif len(parts) == 2 and ~parts[0].isdigit():\n",
    "        file_number = parts[0].split(\"-\")[1]\n",
    "        new_name = f\"{file_number} - {parts[1]}{ext}\"\n",
    "        new_path = os.path.join(os.path.dirname(file_path), new_name)\n",
    "        os.rename(file_path, new_path)\n",
    "    else:\n",
    "        print(f\"File '{file_name}' does not follow the expected naming convention.\")"
   ]
  },
  {
   "cell_type": "code",
   "execution_count": 29,
   "metadata": {},
   "outputs": [
    {
     "name": "stdout",
     "output_type": "stream",
     "text": [
      "['1-01', 'The Downton Christmas Suite, Pa']\n"
     ]
    }
   ],
   "source": [
    "#rename_file('C:/Users/grant/Music/iTunes/iTunes Media/Music/Christmas At Downton Abbey/Christmas At Downton Abbey/1-01 The Downton Christmas Suite, Pa.m4a')"
   ]
  },
  {
   "cell_type": "code",
   "execution_count": null,
   "metadata": {},
   "outputs": [],
   "source": []
  }
 ],
 "metadata": {
  "kernelspec": {
   "display_name": "Python 3",
   "language": "python",
   "name": "python3"
  },
  "language_info": {
   "codemirror_mode": {
    "name": "ipython",
    "version": 3
   },
   "file_extension": ".py",
   "mimetype": "text/x-python",
   "name": "python",
   "nbconvert_exporter": "python",
   "pygments_lexer": "ipython3",
   "version": "3.10.4"
  }
 },
 "nbformat": 4,
 "nbformat_minor": 2
}
